{
 "cells": [
  {
   "cell_type": "code",
   "execution_count": 1,
   "metadata": {},
   "outputs": [],
   "source": [
    "import tensorflow as tf\n",
    "import numpy as np \n",
    "import cv2\n",
    "import imutils\n",
    "import matplotlib.pyplot as plt\n",
    "from keras.preprocessing.image import ImageDataGenerator\n",
    "from keras.callbacks import ModelCheckpoint\n",
    "from keras.callbacks import TensorBoard\n",
    "import time\n",
    "IMG_SIZE=224"
   ]
  },
  {
   "cell_type": "code",
   "execution_count": 2,
   "metadata": {},
   "outputs": [],
   "source": [
    "input_path= r'C:\\Users\\hp\\Downloads\\archive\\brain_tumor_dataset'"
   ]
  },
  {
   "cell_type": "code",
   "execution_count": 3,
   "metadata": {},
   "outputs": [],
   "source": [
    "def crop_img(image,tol=7):\n",
    "    if image.ndim ==2:\n",
    "        mask = image>tol\n",
    "        return image[np.ix_(mask.any(1),mask.any(0))]\n",
    "    elif image.ndim==3:\n",
    "        gray_img = cv2.cvtColor(image, cv2.COLOR_RGB2GRAY)\n",
    "        mask = gray_img>tol\n",
    "        check_shape = image[:,:,0][np.ix_(mask.any(1),mask.any(0))].shape[0]\n",
    "        if (check_shape == 0): \n",
    "            return image\n",
    "        else:\n",
    "            img1=image[:,:,0][np.ix_(mask.any(1),mask.any(0))]\n",
    "            img2=image[:,:,1][np.ix_(mask.any(1),mask.any(0))]\n",
    "            img3=image[:,:,2][np.ix_(mask.any(1),mask.any(0))]\n",
    "            img = np.stack([img1,img2,img3],axis=-1)\n",
    "        return img"
   ]
  },
  {
   "cell_type": "code",
   "execution_count": 4,
   "metadata": {},
   "outputs": [],
   "source": [
    "def preprocess_img(image):\n",
    "    image = cv2.cvtColor(image, cv2.COLOR_BGR2RGB)\n",
    "    image = crop_img(image)\n",
    "    image = cv2.resize(image, (IMG_SIZE, IMG_SIZE))\n",
    "    image = cv2.addWeighted (image,4, cv2.GaussianBlur(image, (0,0) ,10), -4, 96)\n",
    "    return image"
   ]
  },
  {
   "cell_type": "code",
   "execution_count": 5,
   "metadata": {},
   "outputs": [
    {
     "name": "stdout",
     "output_type": "stream",
     "text": [
      "Found 203 images belonging to 2 classes.\n",
      "Found 50 images belonging to 2 classes.\n"
     ]
    }
   ],
   "source": [
    "datagen = ImageDataGenerator(rescale=1/255,\n",
    "                             rotation_range=20,\n",
    "                             horizontal_flip=True,\n",
    "                             height_shift_range=0.1,\n",
    "                             width_shift_range=0.1,\n",
    "                             shear_range=0.1,\n",
    "                             brightness_range=[0.3, 1.5],\n",
    "                             validation_split=0.2,\n",
    "                             preprocessing_function=preprocess_img\n",
    "                            )\n",
    "\n",
    "train_gen= datagen.flow_from_directory(input_path,\n",
    "                                       target_size=(IMG_SIZE,IMG_SIZE),\n",
    "                                       class_mode='binary',\n",
    "                                       subset='training'\n",
    "                                      )\n",
    "val_gen = datagen.flow_from_directory( input_path,\n",
    "                                       target_size=(IMG_SIZE,IMG_SIZE),\n",
    "                                       class_mode='binary',\n",
    "                                       subset='validation'\n",
    "                                      )"
   ]
  },
  {
   "cell_type": "markdown",
   "metadata": {},
   "source": [
    "# DenseNet121"
   ]
  },
  {
   "cell_type": "code",
   "execution_count": 6,
   "metadata": {},
   "outputs": [
    {
     "name": "stdout",
     "output_type": "stream",
     "text": [
      "Model: \"sequential\"\n",
      "_________________________________________________________________\n",
      "Layer (type)                 Output Shape              Param #   \n",
      "=================================================================\n",
      "densenet121 (Functional)     (None, 7, 7, 1024)        7037504   \n",
      "_________________________________________________________________\n",
      "global_average_pooling2d (Gl (None, 1024)              0         \n",
      "_________________________________________________________________\n",
      "dropout (Dropout)            (None, 1024)              0         \n",
      "_________________________________________________________________\n",
      "dense (Dense)                (None, 1)                 1025      \n",
      "=================================================================\n",
      "Total params: 7,038,529\n",
      "Trainable params: 6,954,881\n",
      "Non-trainable params: 83,648\n",
      "_________________________________________________________________\n"
     ]
    }
   ],
   "source": [
    "from keras.applications import DenseNet121\n",
    "Name = \"Densenet\"\n",
    "tensorboard = TensorBoard(log_dir='logs_new6\\{}'.format(Name))\n",
    "densenet = tf.keras.applications.DenseNet121(weights='imagenet',\n",
    "                       include_top=False,\n",
    "                       input_shape=(224,224,3))\n",
    "model_densenet = tf.keras.Sequential()\n",
    "model_densenet.add(densenet)\n",
    "model_densenet.add(tf.keras.layers.GlobalAveragePooling2D())\n",
    "model_densenet.add(tf.keras.layers.Dropout(0.5))\n",
    "model_densenet.add(tf.keras.layers.Dense(1, activation='sigmoid'))\n",
    "  \n",
    "model_densenet.compile(\n",
    "        loss='binary_crossentropy',\n",
    "        optimizer=tf.keras.optimizers.Adam(lr=0.00005),\n",
    "        metrics=['BinaryAccuracy'])\n",
    "  \n",
    "filepath=\"densenet.hdf5\"\n",
    "checkpoint = tf.keras.callbacks.ModelCheckpoint(filepath, monitor='val_kappa', verbose=1, save_best_only=True, mode='max')\n",
    "callbacks_list = [checkpoint] + [tensorboard]\n",
    "model_densenet.summary()"
   ]
  },
  {
   "cell_type": "code",
   "execution_count": 7,
   "metadata": {},
   "outputs": [
    {
     "name": "stdout",
     "output_type": "stream",
     "text": [
      "WARNING:tensorflow:From <ipython-input-7-eefe8ff11eba>:1: Model.fit_generator (from tensorflow.python.keras.engine.training) is deprecated and will be removed in a future version.\n",
      "Instructions for updating:\n",
      "Please use Model.fit, which supports generators.\n",
      "Epoch 1/30\n",
      "1/7 [===>..........................] - ETA: 0s - loss: 1.0917 - binary_accuracy: 0.4375WARNING:tensorflow:From E:\\Users\\hp\\anaconda3\\lib\\site-packages\\tensorflow\\python\\ops\\summary_ops_v2.py:1277: stop (from tensorflow.python.eager.profiler) is deprecated and will be removed after 2020-07-01.\n",
      "Instructions for updating:\n",
      "use `tf.profiler.experimental.stop` instead.\n",
      "7/7 [==============================] - ETA: 0s - loss: 0.8843 - binary_accuracy: 0.5271 WARNING:tensorflow:Can save best model only with val_kappa available, skipping.\n",
      "7/7 [==============================] - 155s 22s/step - loss: 0.8843 - binary_accuracy: 0.5271 - val_loss: 0.7306 - val_binary_accuracy: 0.5200\n",
      "Epoch 2/30\n",
      "7/7 [==============================] - ETA: 0s - loss: 0.6811 - binary_accuracy: 0.6108 WARNING:tensorflow:Can save best model only with val_kappa available, skipping.\n",
      "7/7 [==============================] - 153s 22s/step - loss: 0.6811 - binary_accuracy: 0.6108 - val_loss: 0.8997 - val_binary_accuracy: 0.4000\n",
      "Epoch 3/30\n",
      "7/7 [==============================] - ETA: 0s - loss: 0.4770 - binary_accuracy: 0.7783 WARNING:tensorflow:Can save best model only with val_kappa available, skipping.\n",
      "7/7 [==============================] - 153s 22s/step - loss: 0.4770 - binary_accuracy: 0.7783 - val_loss: 0.8331 - val_binary_accuracy: 0.4800\n",
      "Epoch 4/30\n",
      "7/7 [==============================] - ETA: 0s - loss: 0.4062 - binary_accuracy: 0.8424 WARNING:tensorflow:Can save best model only with val_kappa available, skipping.\n",
      "7/7 [==============================] - 153s 22s/step - loss: 0.4062 - binary_accuracy: 0.8424 - val_loss: 0.8202 - val_binary_accuracy: 0.5000\n",
      "Epoch 5/30\n",
      "7/7 [==============================] - ETA: 0s - loss: 0.3370 - binary_accuracy: 0.8522 WARNING:tensorflow:Can save best model only with val_kappa available, skipping.\n",
      "7/7 [==============================] - 171s 24s/step - loss: 0.3370 - binary_accuracy: 0.8522 - val_loss: 0.7914 - val_binary_accuracy: 0.6400\n",
      "Epoch 6/30\n",
      "7/7 [==============================] - ETA: 0s - loss: 0.3280 - binary_accuracy: 0.8670 WARNING:tensorflow:Can save best model only with val_kappa available, skipping.\n",
      "7/7 [==============================] - 173s 25s/step - loss: 0.3280 - binary_accuracy: 0.8670 - val_loss: 0.6981 - val_binary_accuracy: 0.6000\n",
      "Epoch 7/30\n",
      "7/7 [==============================] - ETA: 0s - loss: 0.2455 - binary_accuracy: 0.8916 WARNING:tensorflow:Can save best model only with val_kappa available, skipping.\n",
      "7/7 [==============================] - 154s 22s/step - loss: 0.2455 - binary_accuracy: 0.8916 - val_loss: 0.6629 - val_binary_accuracy: 0.6400\n",
      "Epoch 8/30\n",
      "7/7 [==============================] - ETA: 0s - loss: 0.2172 - binary_accuracy: 0.9212 WARNING:tensorflow:Can save best model only with val_kappa available, skipping.\n",
      "7/7 [==============================] - 155s 22s/step - loss: 0.2172 - binary_accuracy: 0.9212 - val_loss: 0.6040 - val_binary_accuracy: 0.7600\n",
      "Epoch 9/30\n",
      "7/7 [==============================] - ETA: 0s - loss: 0.2176 - binary_accuracy: 0.8966 WARNING:tensorflow:Can save best model only with val_kappa available, skipping.\n",
      "7/7 [==============================] - 156s 22s/step - loss: 0.2176 - binary_accuracy: 0.8966 - val_loss: 0.5763 - val_binary_accuracy: 0.8000\n",
      "Epoch 10/30\n",
      "7/7 [==============================] - ETA: 0s - loss: 0.1926 - binary_accuracy: 0.9458 WARNING:tensorflow:Can save best model only with val_kappa available, skipping.\n",
      "7/7 [==============================] - 154s 22s/step - loss: 0.1926 - binary_accuracy: 0.9458 - val_loss: 0.4605 - val_binary_accuracy: 0.8200\n",
      "Epoch 11/30\n",
      "7/7 [==============================] - ETA: 0s - loss: 0.1288 - binary_accuracy: 0.9507 WARNING:tensorflow:Can save best model only with val_kappa available, skipping.\n",
      "7/7 [==============================] - 173s 25s/step - loss: 0.1288 - binary_accuracy: 0.9507 - val_loss: 0.3966 - val_binary_accuracy: 0.8600\n",
      "Epoch 12/30\n",
      "7/7 [==============================] - ETA: 0s - loss: 0.1266 - binary_accuracy: 0.9704 WARNING:tensorflow:Can save best model only with val_kappa available, skipping.\n",
      "7/7 [==============================] - 175s 25s/step - loss: 0.1266 - binary_accuracy: 0.9704 - val_loss: 0.4313 - val_binary_accuracy: 0.8400\n",
      "Epoch 13/30\n",
      "7/7 [==============================] - ETA: 0s - loss: 0.1299 - binary_accuracy: 0.9360 WARNING:tensorflow:Can save best model only with val_kappa available, skipping.\n",
      "7/7 [==============================] - 175s 25s/step - loss: 0.1299 - binary_accuracy: 0.9360 - val_loss: 0.3212 - val_binary_accuracy: 0.8600\n",
      "Epoch 14/30\n",
      "7/7 [==============================] - ETA: 0s - loss: 0.1499 - binary_accuracy: 0.9557 WARNING:tensorflow:Can save best model only with val_kappa available, skipping.\n",
      "7/7 [==============================] - 179s 26s/step - loss: 0.1499 - binary_accuracy: 0.9557 - val_loss: 0.3232 - val_binary_accuracy: 0.8600\n",
      "Epoch 15/30\n",
      "7/7 [==============================] - ETA: 0s - loss: 0.0765 - binary_accuracy: 0.9852 WARNING:tensorflow:Can save best model only with val_kappa available, skipping.\n",
      "7/7 [==============================] - 180s 26s/step - loss: 0.0765 - binary_accuracy: 0.9852 - val_loss: 0.1711 - val_binary_accuracy: 0.9400\n",
      "Epoch 16/30\n",
      "7/7 [==============================] - ETA: 0s - loss: 0.0915 - binary_accuracy: 0.9754 WARNING:tensorflow:Can save best model only with val_kappa available, skipping.\n",
      "7/7 [==============================] - 183s 26s/step - loss: 0.0915 - binary_accuracy: 0.9754 - val_loss: 0.1965 - val_binary_accuracy: 0.9200\n",
      "Epoch 17/30\n",
      "7/7 [==============================] - ETA: 0s - loss: 0.0595 - binary_accuracy: 0.9901 WARNING:tensorflow:Can save best model only with val_kappa available, skipping.\n",
      "7/7 [==============================] - 187s 27s/step - loss: 0.0595 - binary_accuracy: 0.9901 - val_loss: 0.1733 - val_binary_accuracy: 0.9400\n",
      "Epoch 18/30\n",
      "7/7 [==============================] - ETA: 0s - loss: 0.1092 - binary_accuracy: 0.9606 WARNING:tensorflow:Can save best model only with val_kappa available, skipping.\n",
      "7/7 [==============================] - 198s 28s/step - loss: 0.1092 - binary_accuracy: 0.9606 - val_loss: 0.1218 - val_binary_accuracy: 0.9600\n",
      "Epoch 19/30\n",
      "7/7 [==============================] - ETA: 0s - loss: 0.0506 - binary_accuracy: 0.9803 WARNING:tensorflow:Can save best model only with val_kappa available, skipping.\n",
      "7/7 [==============================] - 209s 30s/step - loss: 0.0506 - binary_accuracy: 0.9803 - val_loss: 0.1138 - val_binary_accuracy: 0.9400\n",
      "Epoch 20/30\n",
      "7/7 [==============================] - ETA: 0s - loss: 0.0655 - binary_accuracy: 0.9852 WARNING:tensorflow:Can save best model only with val_kappa available, skipping.\n",
      "7/7 [==============================] - 174s 25s/step - loss: 0.0655 - binary_accuracy: 0.9852 - val_loss: 0.1398 - val_binary_accuracy: 0.9600\n",
      "Epoch 21/30\n",
      "7/7 [==============================] - ETA: 0s - loss: 0.0405 - binary_accuracy: 0.9951 WARNING:tensorflow:Can save best model only with val_kappa available, skipping.\n",
      "7/7 [==============================] - 219s 31s/step - loss: 0.0405 - binary_accuracy: 0.9951 - val_loss: 0.1429 - val_binary_accuracy: 0.9400\n",
      "Epoch 22/30\n",
      "7/7 [==============================] - ETA: 0s - loss: 0.0625 - binary_accuracy: 0.9754 WARNING:tensorflow:Can save best model only with val_kappa available, skipping.\n",
      "7/7 [==============================] - 158s 23s/step - loss: 0.0625 - binary_accuracy: 0.9754 - val_loss: 0.1123 - val_binary_accuracy: 0.9600\n",
      "Epoch 23/30\n",
      "7/7 [==============================] - ETA: 0s - loss: 0.0439 - binary_accuracy: 0.9852 WARNING:tensorflow:Can save best model only with val_kappa available, skipping.\n",
      "7/7 [==============================] - 158s 23s/step - loss: 0.0439 - binary_accuracy: 0.9852 - val_loss: 0.0980 - val_binary_accuracy: 0.9800\n",
      "Epoch 24/30\n",
      "7/7 [==============================] - ETA: 0s - loss: 0.0372 - binary_accuracy: 0.9901 WARNING:tensorflow:Can save best model only with val_kappa available, skipping.\n",
      "7/7 [==============================] - 175s 25s/step - loss: 0.0372 - binary_accuracy: 0.9901 - val_loss: 0.1400 - val_binary_accuracy: 0.9400\n",
      "Epoch 25/30\n",
      "7/7 [==============================] - ETA: 0s - loss: 0.0557 - binary_accuracy: 0.9852 WARNING:tensorflow:Can save best model only with val_kappa available, skipping.\n",
      "7/7 [==============================] - 157s 22s/step - loss: 0.0557 - binary_accuracy: 0.9852 - val_loss: 0.1251 - val_binary_accuracy: 0.9600\n",
      "Epoch 26/30\n",
      "7/7 [==============================] - ETA: 0s - loss: 0.0286 - binary_accuracy: 0.9951 WARNING:tensorflow:Can save best model only with val_kappa available, skipping.\n",
      "7/7 [==============================] - 156s 22s/step - loss: 0.0286 - binary_accuracy: 0.9951 - val_loss: 0.0852 - val_binary_accuracy: 0.9600\n",
      "Epoch 27/30\n",
      "7/7 [==============================] - ETA: 0s - loss: 0.0362 - binary_accuracy: 0.9901 WARNING:tensorflow:Can save best model only with val_kappa available, skipping.\n",
      "7/7 [==============================] - 156s 22s/step - loss: 0.0362 - binary_accuracy: 0.9901 - val_loss: 0.1502 - val_binary_accuracy: 0.9400\n",
      "Epoch 28/30\n",
      "7/7 [==============================] - ETA: 0s - loss: 0.0230 - binary_accuracy: 0.9901 WARNING:tensorflow:Can save best model only with val_kappa available, skipping.\n",
      "7/7 [==============================] - 156s 22s/step - loss: 0.0230 - binary_accuracy: 0.9901 - val_loss: 0.1987 - val_binary_accuracy: 0.9200\n",
      "Epoch 29/30\n",
      "7/7 [==============================] - ETA: 0s - loss: 0.0257 - binary_accuracy: 0.9951 WARNING:tensorflow:Can save best model only with val_kappa available, skipping.\n",
      "7/7 [==============================] - 156s 22s/step - loss: 0.0257 - binary_accuracy: 0.9951 - val_loss: 0.1784 - val_binary_accuracy: 0.9000\n",
      "Epoch 30/30\n",
      "7/7 [==============================] - ETA: 0s - loss: 0.0171 - binary_accuracy: 0.9901 WARNING:tensorflow:Can save best model only with val_kappa available, skipping.\n",
      "7/7 [==============================] - 156s 22s/step - loss: 0.0171 - binary_accuracy: 0.9901 - val_loss: 0.1338 - val_binary_accuracy: 0.9400\n"
     ]
    }
   ],
   "source": [
    "history_densenet =model_densenet.fit_generator(train_gen, \n",
    "                    epochs=30,\n",
    "                    initial_epoch=0,\n",
    "                    verbose=1, \n",
    "                    validation_data=val_gen,\n",
    "                    callbacks=callbacks_list)"
   ]
  },
  {
   "cell_type": "code",
   "execution_count": 8,
   "metadata": {},
   "outputs": [],
   "source": [
    "model_densenet.save('C:\\\\Users\\\\hp\\\\Downloads\\\\APTOS-2019-Blindness-Detection-master\\\\densenet.h5')"
   ]
  },
  {
   "cell_type": "code",
   "execution_count": 9,
   "metadata": {},
   "outputs": [
    {
     "data": {
      "text/plain": [
       "<matplotlib.legend.Legend at 0x1b0a2f02fd0>"
      ]
     },
     "execution_count": 9,
     "metadata": {},
     "output_type": "execute_result"
    },
    {
     "data": {
      "image/png": "[encoded data removed]",
      "text/plain": [
       "<Figure size 432x288 with 1 Axes>"
      ]
     },
     "metadata": {
      "needs_background": "light"
     },
     "output_type": "display_data"
    }
   ],
   "source": [
    "plt.plot(history_densenet.history['loss'],label='train loss')\n",
    "plt.plot(history_densenet.history['val_loss'],label='validation loss')\n",
    "plt.legend()"
   ]
  },
  {
   "cell_type": "code",
   "execution_count": 10,
   "metadata": {},
   "outputs": [
    {
     "data": {
      "text/plain": [
       "<matplotlib.legend.Legend at 0x1b0a2dea220>"
      ]
     },
     "execution_count": 10,
     "metadata": {},
     "output_type": "execute_result"
    },
    {
     "data": {
      "image/png": "[encoded data removed]",
      "text/plain": [
       "<Figure size 432x288 with 1 Axes>"
      ]
     },
     "metadata": {
      "needs_background": "light"
     },
     "output_type": "display_data"
    }
   ],
   "source": [
    "plt.plot(history_densenet.history['binary_accuracy'],label='train accuracy')\n",
    "plt.plot(history_densenet.history['val_binary_accuracy'],label='validation accuracy')\n",
    "plt.legend()"
   ]
  },
  {
   "cell_type": "markdown",
   "metadata": {},
   "source": [
    "# Resnet50 "
   ]
  },
  {
   "cell_type": "code",
   "execution_count": 11,
   "metadata": {},
   "outputs": [
    {
     "name": "stdout",
     "output_type": "stream",
     "text": [
      "Model: \"sequential_1\"\n",
      "_________________________________________________________________\n",
      "Layer (type)                 Output Shape              Param #   \n",
      "=================================================================\n",
      "resnet50 (Functional)        (None, 7, 7, 2048)        23587712  \n",
      "_________________________________________________________________\n",
      "global_average_pooling2d_1 ( (None, 2048)              0         \n",
      "_________________________________________________________________\n",
      "dropout_1 (Dropout)          (None, 2048)              0         \n",
      "_________________________________________________________________\n",
      "dense_1 (Dense)              (None, 1)                 2049      \n",
      "=================================================================\n",
      "Total params: 23,589,761\n",
      "Trainable params: 23,536,641\n",
      "Non-trainable params: 53,120\n",
      "_________________________________________________________________\n"
     ]
    }
   ],
   "source": [
    "from keras_applications.resnet import ResNet50\n",
    "Name = \"Resnet\"\n",
    "tensorboard = TensorBoard(log_dir='logs_new6\\{}'.format(Name))\n",
    "resnet = tf.keras.applications.ResNet50(weights='imagenet',\n",
    "                       include_top=False,\n",
    "                       input_shape=(224,224,3))\n",
    "model_resnet = tf.keras.Sequential([\n",
    "resnet,\n",
    "tf.keras.layers.GlobalAveragePooling2D(),\n",
    "tf.keras.layers.Dropout(0.5),\n",
    "tf.keras.layers.Dense(1, activation='sigmoid')\n",
    "])\n",
    "\n",
    "model_resnet.compile(\n",
    "        loss='binary_crossentropy',\n",
    "        optimizer=tf.keras.optimizers.Adam(lr=0.00005),\n",
    "        metrics=['BinaryAccuracy'])\n",
    "    \n",
    "filepath=\"Resnet50.hdf5\"\n",
    "checkpoint = ModelCheckpoint(filepath, monitor='val_kappa', verbose=1, save_best_only=True, mode='max')\n",
    "callbacks_list = [checkpoint] + [tensorboard]\n",
    "model_resnet.summary()"
   ]
  },
  {
   "cell_type": "code",
   "execution_count": 12,
   "metadata": {},
   "outputs": [
    {
     "name": "stdout",
     "output_type": "stream",
     "text": [
      "Epoch 1/30\n",
      "7/7 [==============================] - ETA: 0s - loss: 1.0249 - binary_accuracy: 0.4631 WARNING:tensorflow:Can save best model only with val_kappa available, skipping.\n",
      "7/7 [==============================] - 159s 23s/step - loss: 1.0249 - binary_accuracy: 0.4631 - val_loss: 1.6131 - val_binary_accuracy: 0.3800\n",
      "Epoch 2/30\n",
      "7/7 [==============================] - ETA: 0s - loss: 0.5814 - binary_accuracy: 0.7044 WARNING:tensorflow:Can save best model only with val_kappa available, skipping.\n",
      "7/7 [==============================] - 140s 20s/step - loss: 0.5814 - binary_accuracy: 0.7044 - val_loss: 1.6125 - val_binary_accuracy: 0.3800\n",
      "Epoch 3/30\n",
      "7/7 [==============================] - ETA: 0s - loss: 0.3227 - binary_accuracy: 0.8522 WARNING:tensorflow:Can save best model only with val_kappa available, skipping.\n",
      "7/7 [==============================] - 157s 22s/step - loss: 0.3227 - binary_accuracy: 0.8522 - val_loss: 1.6332 - val_binary_accuracy: 0.3800\n",
      "Epoch 4/30\n",
      "7/7 [==============================] - ETA: 0s - loss: 0.3551 - binary_accuracy: 0.8424 WARNING:tensorflow:Can save best model only with val_kappa available, skipping.\n",
      "7/7 [==============================] - 138s 20s/step - loss: 0.3551 - binary_accuracy: 0.8424 - val_loss: 1.6767 - val_binary_accuracy: 0.3800\n",
      "Epoch 5/30\n",
      "7/7 [==============================] - ETA: 0s - loss: 0.2480 - binary_accuracy: 0.8916 WARNING:tensorflow:Can save best model only with val_kappa available, skipping.\n",
      "7/7 [==============================] - 141s 20s/step - loss: 0.2480 - binary_accuracy: 0.8916 - val_loss: 1.6107 - val_binary_accuracy: 0.3800\n",
      "Epoch 6/30\n",
      "7/7 [==============================] - ETA: 0s - loss: 0.1627 - binary_accuracy: 0.9458 WARNING:tensorflow:Can save best model only with val_kappa available, skipping.\n",
      "7/7 [==============================] - 156s 22s/step - loss: 0.1627 - binary_accuracy: 0.9458 - val_loss: 1.7657 - val_binary_accuracy: 0.3800\n",
      "Epoch 7/30\n",
      "7/7 [==============================] - ETA: 0s - loss: 0.1302 - binary_accuracy: 0.9507 WARNING:tensorflow:Can save best model only with val_kappa available, skipping.\n",
      "7/7 [==============================] - 138s 20s/step - loss: 0.1302 - binary_accuracy: 0.9507 - val_loss: 2.0432 - val_binary_accuracy: 0.3800\n",
      "Epoch 8/30\n",
      "7/7 [==============================] - ETA: 0s - loss: 0.1128 - binary_accuracy: 0.9754 WARNING:tensorflow:Can save best model only with val_kappa available, skipping.\n",
      "7/7 [==============================] - 137s 20s/step - loss: 0.1128 - binary_accuracy: 0.9754 - val_loss: 2.0261 - val_binary_accuracy: 0.3800\n",
      "Epoch 9/30\n",
      "7/7 [==============================] - ETA: 0s - loss: 0.0900 - binary_accuracy: 0.9704 WARNING:tensorflow:Can save best model only with val_kappa available, skipping.\n",
      "7/7 [==============================] - 137s 20s/step - loss: 0.0900 - binary_accuracy: 0.9704 - val_loss: 1.8331 - val_binary_accuracy: 0.3800\n",
      "Epoch 10/30\n",
      "7/7 [==============================] - ETA: 0s - loss: 0.0703 - binary_accuracy: 0.9655 WARNING:tensorflow:Can save best model only with val_kappa available, skipping.\n",
      "7/7 [==============================] - 137s 20s/step - loss: 0.0703 - binary_accuracy: 0.9655 - val_loss: 1.8037 - val_binary_accuracy: 0.3800\n",
      "Epoch 11/30\n",
      "7/7 [==============================] - ETA: 0s - loss: 0.0696 - binary_accuracy: 0.9754 WARNING:tensorflow:Can save best model only with val_kappa available, skipping.\n",
      "7/7 [==============================] - 158s 23s/step - loss: 0.0696 - binary_accuracy: 0.9754 - val_loss: 1.9194 - val_binary_accuracy: 0.3800\n",
      "Epoch 12/30\n",
      "7/7 [==============================] - ETA: 0s - loss: 0.0349 - binary_accuracy: 0.9951 WARNING:tensorflow:Can save best model only with val_kappa available, skipping.\n",
      "7/7 [==============================] - 137s 20s/step - loss: 0.0349 - binary_accuracy: 0.9951 - val_loss: 1.9916 - val_binary_accuracy: 0.4000\n",
      "Epoch 13/30\n",
      "7/7 [==============================] - ETA: 0s - loss: 0.0441 - binary_accuracy: 0.9803 WARNING:tensorflow:Can save best model only with val_kappa available, skipping.\n",
      "7/7 [==============================] - 160s 23s/step - loss: 0.0441 - binary_accuracy: 0.9803 - val_loss: 2.1028 - val_binary_accuracy: 0.3800\n",
      "Epoch 14/30\n",
      "7/7 [==============================] - ETA: 0s - loss: 0.0253 - binary_accuracy: 1.0000 WARNING:tensorflow:Can save best model only with val_kappa available, skipping.\n",
      "7/7 [==============================] - 173s 25s/step - loss: 0.0253 - binary_accuracy: 1.0000 - val_loss: 2.0787 - val_binary_accuracy: 0.3800\n",
      "Epoch 15/30\n",
      "7/7 [==============================] - ETA: 0s - loss: 0.0267 - binary_accuracy: 0.9951 WARNING:tensorflow:Can save best model only with val_kappa available, skipping.\n",
      "7/7 [==============================] - 202s 29s/step - loss: 0.0267 - binary_accuracy: 0.9951 - val_loss: 1.9782 - val_binary_accuracy: 0.3800\n",
      "Epoch 16/30\n",
      "7/7 [==============================] - ETA: 0s - loss: 0.0359 - binary_accuracy: 0.9852 WARNING:tensorflow:Can save best model only with val_kappa available, skipping.\n",
      "7/7 [==============================] - 204s 29s/step - loss: 0.0359 - binary_accuracy: 0.9852 - val_loss: 1.9095 - val_binary_accuracy: 0.3800\n",
      "Epoch 17/30\n",
      "7/7 [==============================] - ETA: 0s - loss: 0.0239 - binary_accuracy: 0.9901 WARNING:tensorflow:Can save best model only with val_kappa available, skipping.\n",
      "7/7 [==============================] - 216s 31s/step - loss: 0.0239 - binary_accuracy: 0.9901 - val_loss: 1.4880 - val_binary_accuracy: 0.4200\n",
      "Epoch 18/30\n",
      "7/7 [==============================] - ETA: 0s - loss: 0.0298 - binary_accuracy: 0.9901 WARNING:tensorflow:Can save best model only with val_kappa available, skipping.\n",
      "7/7 [==============================] - 209s 30s/step - loss: 0.0298 - binary_accuracy: 0.9901 - val_loss: 1.3335 - val_binary_accuracy: 0.4200\n",
      "Epoch 19/30\n",
      "7/7 [==============================] - ETA: 0s - loss: 0.0437 - binary_accuracy: 0.9803 WARNING:tensorflow:Can save best model only with val_kappa available, skipping.\n",
      "7/7 [==============================] - 218s 31s/step - loss: 0.0437 - binary_accuracy: 0.9803 - val_loss: 1.2374 - val_binary_accuracy: 0.4000\n",
      "Epoch 20/30\n",
      "7/7 [==============================] - ETA: 0s - loss: 0.0199 - binary_accuracy: 1.0000 WARNING:tensorflow:Can save best model only with val_kappa available, skipping.\n",
      "7/7 [==============================] - 176s 25s/step - loss: 0.0199 - binary_accuracy: 1.0000 - val_loss: 1.1495 - val_binary_accuracy: 0.4400\n",
      "Epoch 21/30\n",
      "7/7 [==============================] - ETA: 0s - loss: 0.0232 - binary_accuracy: 0.9901 WARNING:tensorflow:Can save best model only with val_kappa available, skipping.\n",
      "7/7 [==============================] - 180s 26s/step - loss: 0.0232 - binary_accuracy: 0.9901 - val_loss: 1.0608 - val_binary_accuracy: 0.5800\n",
      "Epoch 22/30\n",
      "7/7 [==============================] - ETA: 0s - loss: 0.0160 - binary_accuracy: 1.0000 WARNING:tensorflow:Can save best model only with val_kappa available, skipping.\n",
      "7/7 [==============================] - 182s 26s/step - loss: 0.0160 - binary_accuracy: 1.0000 - val_loss: 1.1910 - val_binary_accuracy: 0.4600\n",
      "Epoch 23/30\n",
      "7/7 [==============================] - ETA: 0s - loss: 0.0175 - binary_accuracy: 0.9951 WARNING:tensorflow:Can save best model only with val_kappa available, skipping.\n",
      "7/7 [==============================] - 183s 26s/step - loss: 0.0175 - binary_accuracy: 0.9951 - val_loss: 1.1033 - val_binary_accuracy: 0.5200\n",
      "Epoch 24/30\n",
      "7/7 [==============================] - ETA: 0s - loss: 0.0069 - binary_accuracy: 1.0000 WARNING:tensorflow:Can save best model only with val_kappa available, skipping.\n",
      "7/7 [==============================] - 186s 27s/step - loss: 0.0069 - binary_accuracy: 1.0000 - val_loss: 1.1274 - val_binary_accuracy: 0.5600\n",
      "Epoch 25/30\n",
      "7/7 [==============================] - ETA: 0s - loss: 0.0084 - binary_accuracy: 1.0000 WARNING:tensorflow:Can save best model only with val_kappa available, skipping.\n",
      "7/7 [==============================] - 183s 26s/step - loss: 0.0084 - binary_accuracy: 1.0000 - val_loss: 1.1998 - val_binary_accuracy: 0.5400\n",
      "Epoch 26/30\n",
      "7/7 [==============================] - ETA: 0s - loss: 0.0105 - binary_accuracy: 0.9951 WARNING:tensorflow:Can save best model only with val_kappa available, skipping.\n",
      "7/7 [==============================] - 182s 26s/step - loss: 0.0105 - binary_accuracy: 0.9951 - val_loss: 1.1777 - val_binary_accuracy: 0.5600\n",
      "Epoch 27/30\n",
      "7/7 [==============================] - ETA: 0s - loss: 0.0108 - binary_accuracy: 1.0000 WARNING:tensorflow:Can save best model only with val_kappa available, skipping.\n",
      "7/7 [==============================] - 185s 26s/step - loss: 0.0108 - binary_accuracy: 1.0000 - val_loss: 1.2038 - val_binary_accuracy: 0.5400\n",
      "Epoch 28/30\n",
      "7/7 [==============================] - ETA: 0s - loss: 0.0163 - binary_accuracy: 0.9951 WARNING:tensorflow:Can save best model only with val_kappa available, skipping.\n",
      "7/7 [==============================] - 180s 26s/step - loss: 0.0163 - binary_accuracy: 0.9951 - val_loss: 1.4483 - val_binary_accuracy: 0.4800\n",
      "Epoch 29/30\n",
      "7/7 [==============================] - ETA: 0s - loss: 0.0297 - binary_accuracy: 0.9901 WARNING:tensorflow:Can save best model only with val_kappa available, skipping.\n",
      "7/7 [==============================] - 182s 26s/step - loss: 0.0297 - binary_accuracy: 0.9901 - val_loss: 1.6705 - val_binary_accuracy: 0.4600\n",
      "Epoch 30/30\n",
      "7/7 [==============================] - ETA: 0s - loss: 0.0118 - binary_accuracy: 0.9951 WARNING:tensorflow:Can save best model only with val_kappa available, skipping.\n",
      "7/7 [==============================] - 202s 29s/step - loss: 0.0118 - binary_accuracy: 0.9951 - val_loss: 1.9209 - val_binary_accuracy: 0.4400\n"
     ]
    }
   ],
   "source": [
    "history_resnet =model_resnet.fit_generator(train_gen, \n",
    "                    epochs=30,\n",
    "                    initial_epoch=0,\n",
    "                    verbose=1, \n",
    "                    validation_data=val_gen,\n",
    "                    callbacks=callbacks_list)\n"
   ]
  },
  {
   "cell_type": "code",
   "execution_count": 13,
   "metadata": {},
   "outputs": [],
   "source": [
    "model_resnet.save('C:\\\\Users\\\\hp\\\\Downloads\\\\APTOS-2019-Blindness-Detection-master\\\\model_resnet.h5')\n"
   ]
  },
  {
   "cell_type": "code",
   "execution_count": 14,
   "metadata": {},
   "outputs": [
    {
     "data": {
      "text/plain": [
       "<matplotlib.legend.Legend at 0x1b0abdd89a0>"
      ]
     },
     "execution_count": 14,
     "metadata": {},
     "output_type": "execute_result"
    },
    {
     "data": {
      "image/png": "[encoded data removed]",
      "text/plain": [
       "<Figure size 432x288 with 1 Axes>"
      ]
     },
     "metadata": {
      "needs_background": "light"
     },
     "output_type": "display_data"
    }
   ],
   "source": [
    "plt.plot(history_resnet.history['loss'],label='train loss')\n",
    "plt.plot(history_resnet.history['val_loss'],label='validation loss')\n",
    "plt.legend()"
   ]
  },
  {
   "cell_type": "code",
   "execution_count": 15,
   "metadata": {},
   "outputs": [
    {
     "data": {
      "text/plain": [
       "<matplotlib.legend.Legend at 0x1b0abe34fd0>"
      ]
     },
     "execution_count": 15,
     "metadata": {},
     "output_type": "execute_result"
    },
    {
     "data": {
      "image/png": "[encoded data removed]",
      "text/plain": [
       "<Figure size 432x288 with 1 Axes>"
      ]
     },
     "metadata": {
      "needs_background": "light"
     },
     "output_type": "display_data"
    }
   ],
   "source": [
    "plt.plot(history_resnet.history['binary_accuracy'],label='train accuracy')\n",
    "plt.plot(history_resnet.history['val_binary_accuracy'],label='validation accuracy')\n",
    "plt.legend()"
   ]
  },
  {
   "cell_type": "markdown",
   "metadata": {},
   "source": [
    "# EfficientnetB4 "
   ]
  },
  {
   "cell_type": "code",
   "execution_count": 16,
   "metadata": {},
   "outputs": [
    {
     "name": "stdout",
     "output_type": "stream",
     "text": [
      "Model: \"sequential_2\"\n",
      "_________________________________________________________________\n",
      "Layer (type)                 Output Shape              Param #   \n",
      "=================================================================\n",
      "efficientnetb4 (Functional)  (None, 7, 7, 1792)        17673823  \n",
      "_________________________________________________________________\n",
      "global_average_pooling2d_2 ( (None, 1792)              0         \n",
      "_________________________________________________________________\n",
      "dropout_2 (Dropout)          (None, 1792)              0         \n",
      "_________________________________________________________________\n",
      "dense_2 (Dense)              (None, 1)                 1793      \n",
      "=================================================================\n",
      "Total params: 17,675,616\n",
      "Trainable params: 17,550,409\n",
      "Non-trainable params: 125,207\n",
      "_________________________________________________________________\n"
     ]
    }
   ],
   "source": [
    "from tensorflow.keras.applications import EfficientNetB4 as efn\n",
    "\n",
    "SAVED_MODEL_NAME = 'effnet_modelB4.h5'\n",
    "Name = \"EfficientNetB4\"\n",
    "tensorboard = TensorBoard(log_dir='logs_new6\\{}'.format(Name))\n",
    "effnet = efn(weights='imagenet',\n",
    "                       include_top=False,\n",
    "                       input_shape=(224,224,3))\n",
    "\n",
    "model_effnet = tf.keras.Sequential([\n",
    "effnet,\n",
    "tf.keras.layers.GlobalAveragePooling2D(),\n",
    "tf.keras.layers.Dropout(0.5),\n",
    "tf.keras.layers.Dense(1, activation='sigmoid')\n",
    "])\n",
    "       \n",
    "model_effnet.compile(\n",
    "        loss='binary_crossentropy',\n",
    "        optimizer=tf.keras.optimizers.Adam(lr=0.00005))\n",
    "\n",
    "filepath = \"effnet.hdf5\"\n",
    "checkpoint = tf.keras.callbacks.ModelCheckpoint(filepath, monitor='val_kappa', verbose=1, save_best_only=True, mode='max')\n",
    "callbacks_list = [checkpoint] + [tensorboard]\n",
    "model_effnet.summary()"
   ]
  },
  {
   "cell_type": "code",
   "execution_count": 17,
   "metadata": {
    "scrolled": true
   },
   "outputs": [
    {
     "name": "stdout",
     "output_type": "stream",
     "text": [
      "Epoch 1/30\n",
      "7/7 [==============================] - ETA: 0s - loss: 0.7254 WARNING:tensorflow:Can save best model only with val_kappa available, skipping.\n",
      "7/7 [==============================] - 294s 42s/step - loss: 0.7254 - val_loss: 0.6764\n",
      "Epoch 2/30\n",
      "7/7 [==============================] - ETA: 0s - loss: 0.6394 WARNING:tensorflow:Can save best model only with val_kappa available, skipping.\n",
      "7/7 [==============================] - 244s 35s/step - loss: 0.6394 - val_loss: 0.6892\n",
      "Epoch 3/30\n",
      "7/7 [==============================] - ETA: 0s - loss: 0.5661 WARNING:tensorflow:Can save best model only with val_kappa available, skipping.\n",
      "7/7 [==============================] - 241s 34s/step - loss: 0.5661 - val_loss: 0.6793\n",
      "Epoch 4/30\n",
      "7/7 [==============================] - ETA: 0s - loss: 0.5366 WARNING:tensorflow:Can save best model only with val_kappa available, skipping.\n",
      "7/7 [==============================] - 246s 35s/step - loss: 0.5366 - val_loss: 0.6709\n",
      "Epoch 5/30\n",
      "7/7 [==============================] - ETA: 0s - loss: 0.4705 WARNING:tensorflow:Can save best model only with val_kappa available, skipping.\n",
      "7/7 [==============================] - 228s 33s/step - loss: 0.4705 - val_loss: 0.6687\n",
      "Epoch 6/30\n",
      "7/7 [==============================] - ETA: 0s - loss: 0.4468 WARNING:tensorflow:Can save best model only with val_kappa available, skipping.\n",
      "7/7 [==============================] - 234s 33s/step - loss: 0.4468 - val_loss: 0.6651\n",
      "Epoch 7/30\n",
      "7/7 [==============================] - ETA: 0s - loss: 0.3561 WARNING:tensorflow:Can save best model only with val_kappa available, skipping.\n",
      "7/7 [==============================] - 229s 33s/step - loss: 0.3561 - val_loss: 0.6559\n",
      "Epoch 8/30\n",
      "7/7 [==============================] - ETA: 0s - loss: 0.3393 WARNING:tensorflow:Can save best model only with val_kappa available, skipping.\n",
      "7/7 [==============================] - 232s 33s/step - loss: 0.3393 - val_loss: 0.6403\n",
      "Epoch 9/30\n",
      "7/7 [==============================] - ETA: 0s - loss: 0.3000 WARNING:tensorflow:Can save best model only with val_kappa available, skipping.\n",
      "7/7 [==============================] - 243s 35s/step - loss: 0.3000 - val_loss: 0.6555\n",
      "Epoch 10/30\n",
      "7/7 [==============================] - ETA: 0s - loss: 0.2961 WARNING:tensorflow:Can save best model only with val_kappa available, skipping.\n",
      "7/7 [==============================] - 211s 30s/step - loss: 0.2961 - val_loss: 0.6471\n",
      "Epoch 11/30\n",
      "7/7 [==============================] - ETA: 0s - loss: 0.2318 WARNING:tensorflow:Can save best model only with val_kappa available, skipping.\n",
      "7/7 [==============================] - 209s 30s/step - loss: 0.2318 - val_loss: 0.6441\n",
      "Epoch 12/30\n",
      "7/7 [==============================] - ETA: 0s - loss: 0.1897 WARNING:tensorflow:Can save best model only with val_kappa available, skipping.\n",
      "7/7 [==============================] - 210s 30s/step - loss: 0.1897 - val_loss: 0.6556\n",
      "Epoch 13/30\n",
      "7/7 [==============================] - ETA: 0s - loss: 0.1869 WARNING:tensorflow:Can save best model only with val_kappa available, skipping.\n",
      "7/7 [==============================] - 211s 30s/step - loss: 0.1869 - val_loss: 0.6383\n",
      "Epoch 14/30\n",
      "7/7 [==============================] - ETA: 0s - loss: 0.1520 WARNING:tensorflow:Can save best model only with val_kappa available, skipping.\n",
      "7/7 [==============================] - 236s 34s/step - loss: 0.1520 - val_loss: 0.6156\n",
      "Epoch 15/30\n",
      "7/7 [==============================] - ETA: 0s - loss: 0.1390 WARNING:tensorflow:Can save best model only with val_kappa available, skipping.\n",
      "7/7 [==============================] - 210s 30s/step - loss: 0.1390 - val_loss: 0.6379\n",
      "Epoch 16/30\n",
      "7/7 [==============================] - ETA: 0s - loss: 0.1185 WARNING:tensorflow:Can save best model only with val_kappa available, skipping.\n",
      "7/7 [==============================] - 210s 30s/step - loss: 0.1185 - val_loss: 0.6886\n",
      "Epoch 17/30\n",
      "7/7 [==============================] - ETA: 0s - loss: 0.1159 WARNING:tensorflow:Can save best model only with val_kappa available, skipping.\n",
      "7/7 [==============================] - 210s 30s/step - loss: 0.1159 - val_loss: 0.6411\n",
      "Epoch 18/30\n",
      "7/7 [==============================] - ETA: 0s - loss: 0.0884 WARNING:tensorflow:Can save best model only with val_kappa available, skipping.\n",
      "7/7 [==============================] - 210s 30s/step - loss: 0.0884 - val_loss: 0.7040\n",
      "Epoch 19/30\n",
      "7/7 [==============================] - ETA: 0s - loss: 0.0891 WARNING:tensorflow:Can save best model only with val_kappa available, skipping.\n",
      "7/7 [==============================] - 209s 30s/step - loss: 0.0891 - val_loss: 0.6583\n",
      "Epoch 20/30\n",
      "7/7 [==============================] - ETA: 0s - loss: 0.1025 WARNING:tensorflow:Can save best model only with val_kappa available, skipping.\n",
      "7/7 [==============================] - 211s 30s/step - loss: 0.1025 - val_loss: 0.6896\n",
      "Epoch 21/30\n",
      "7/7 [==============================] - ETA: 0s - loss: 0.1029 WARNING:tensorflow:Can save best model only with val_kappa available, skipping.\n",
      "7/7 [==============================] - 211s 30s/step - loss: 0.1029 - val_loss: 0.8787\n",
      "Epoch 22/30\n",
      "7/7 [==============================] - ETA: 0s - loss: 0.0941 WARNING:tensorflow:Can save best model only with val_kappa available, skipping.\n",
      "7/7 [==============================] - 214s 31s/step - loss: 0.0941 - val_loss: 0.6472\n",
      "Epoch 23/30\n",
      "7/7 [==============================] - ETA: 0s - loss: 0.0546 WARNING:tensorflow:Can save best model only with val_kappa available, skipping.\n",
      "7/7 [==============================] - 210s 30s/step - loss: 0.0546 - val_loss: 0.9448\n",
      "Epoch 24/30\n",
      "7/7 [==============================] - ETA: 0s - loss: 0.0465 WARNING:tensorflow:Can save best model only with val_kappa available, skipping.\n",
      "7/7 [==============================] - 211s 30s/step - loss: 0.0465 - val_loss: 0.7598\n",
      "Epoch 25/30\n",
      "7/7 [==============================] - ETA: 0s - loss: 0.0416 WARNING:tensorflow:Can save best model only with val_kappa available, skipping.\n",
      "7/7 [==============================] - 210s 30s/step - loss: 0.0416 - val_loss: 0.8415\n",
      "Epoch 26/30\n",
      "7/7 [==============================] - ETA: 0s - loss: 0.0661 WARNING:tensorflow:Can save best model only with val_kappa available, skipping.\n",
      "7/7 [==============================] - 210s 30s/step - loss: 0.0661 - val_loss: 0.8803\n",
      "Epoch 27/30\n",
      "7/7 [==============================] - ETA: 0s - loss: 0.0700 WARNING:tensorflow:Can save best model only with val_kappa available, skipping.\n",
      "7/7 [==============================] - 210s 30s/step - loss: 0.0700 - val_loss: 0.8209\n",
      "Epoch 28/30\n",
      "7/7 [==============================] - ETA: 0s - loss: 0.0318 WARNING:tensorflow:Can save best model only with val_kappa available, skipping.\n",
      "7/7 [==============================] - 210s 30s/step - loss: 0.0318 - val_loss: 0.7790\n",
      "Epoch 29/30\n",
      "7/7 [==============================] - ETA: 0s - loss: 0.0374 WARNING:tensorflow:Can save best model only with val_kappa available, skipping.\n",
      "7/7 [==============================] - 211s 30s/step - loss: 0.0374 - val_loss: 0.8546\n",
      "Epoch 30/30\n",
      "7/7 [==============================] - ETA: 0s - loss: 0.0402 WARNING:tensorflow:Can save best model only with val_kappa available, skipping.\n",
      "7/7 [==============================] - 211s 30s/step - loss: 0.0402 - val_loss: 0.8183\n"
     ]
    }
   ],
   "source": [
    "history_effnet = model_effnet.fit_generator(train_gen,\n",
    "                              epochs=30,\n",
    "                              validation_data=val_gen,\n",
    "                              callbacks=callbacks_list)"
   ]
  },
  {
   "cell_type": "code",
   "execution_count": 18,
   "metadata": {},
   "outputs": [],
   "source": [
    "model_effnet.save('C:\\\\Users\\\\hp\\\\Downloads\\\\APTOS-2019-Blindness-Detection-master\\\\model_effnet.h5')"
   ]
  },
  {
   "cell_type": "code",
   "execution_count": 19,
   "metadata": {},
   "outputs": [
    {
     "data": {
      "text/plain": [
       "<matplotlib.legend.Legend at 0x1b0be2ec910>"
      ]
     },
     "execution_count": 19,
     "metadata": {},
     "output_type": "execute_result"
    },
    {
     "data": {
      "image/png": "[encoded data removed]",
      "text/plain": [
       "<Figure size 432x288 with 1 Axes>"
      ]
     },
     "metadata": {
      "needs_background": "light"
     },
     "output_type": "display_data"
    }
   ],
   "source": [
    "plt.plot(history_effnet.history['loss'],label='train loss')\n",
    "plt.plot(history_effnet.history['val_loss'],label='validation loss')\n",
    "plt.legend()"
   ]
  },
  {
   "cell_type": "code",
   "execution_count": 20,
   "metadata": {},
   "outputs": [
    {
     "ename": "KeyError",
     "evalue": "'binary_accuracy'",
     "output_type": "error",
     "traceback": [
      "\u001b[1;31m---------------------------------------------------------------------------\u001b[0m",
      "\u001b[1;31mKeyError\u001b[0m                                  Traceback (most recent call last)",
      "\u001b[1;32m<ipython-input-20-9217541925e2>\u001b[0m in \u001b[0;36m<module>\u001b[1;34m\u001b[0m\n\u001b[1;32m----> 1\u001b[1;33m \u001b[0mplt\u001b[0m\u001b[1;33m.\u001b[0m\u001b[0mplot\u001b[0m\u001b[1;33m(\u001b[0m\u001b[0mhistory_effnet\u001b[0m\u001b[1;33m.\u001b[0m\u001b[0mhistory\u001b[0m\u001b[1;33m[\u001b[0m\u001b[1;34m'binary_accuracy'\u001b[0m\u001b[1;33m]\u001b[0m\u001b[1;33m,\u001b[0m\u001b[0mlabel\u001b[0m\u001b[1;33m=\u001b[0m\u001b[1;34m'train accuracy'\u001b[0m\u001b[1;33m)\u001b[0m\u001b[1;33m\u001b[0m\u001b[1;33m\u001b[0m\u001b[0m\n\u001b[0m\u001b[0;32m      2\u001b[0m \u001b[0mplt\u001b[0m\u001b[1;33m.\u001b[0m\u001b[0mplot\u001b[0m\u001b[1;33m(\u001b[0m\u001b[0mhistory_effnet\u001b[0m\u001b[1;33m.\u001b[0m\u001b[0mhistory\u001b[0m\u001b[1;33m[\u001b[0m\u001b[1;34m'val_binary_accuracy'\u001b[0m\u001b[1;33m]\u001b[0m\u001b[1;33m,\u001b[0m\u001b[0mlabel\u001b[0m\u001b[1;33m=\u001b[0m\u001b[1;34m'validation accuracy'\u001b[0m\u001b[1;33m)\u001b[0m\u001b[1;33m\u001b[0m\u001b[1;33m\u001b[0m\u001b[0m\n\u001b[0;32m      3\u001b[0m \u001b[0mplt\u001b[0m\u001b[1;33m.\u001b[0m\u001b[0mlegend\u001b[0m\u001b[1;33m(\u001b[0m\u001b[1;33m)\u001b[0m\u001b[1;33m\u001b[0m\u001b[1;33m\u001b[0m\u001b[0m\n",
      "\u001b[1;31mKeyError\u001b[0m: 'binary_accuracy'"
     ]
    }
   ],
   "source": [
    "plt.plot(history_effnet.history['binary_accuracy'],label='train accuracy')\n",
    "plt.plot(history_effnet.history['val_binary_accuracy'],label='validation accuracy')\n",
    "plt.legend()"
   ]
  }
 ],
 "metadata": {
  "kernelspec": {
   "display_name": "Python 3",
   "language": "python",
   "name": "python3"
  },
  "language_info": {
   "codemirror_mode": {
    "name": "ipython",
    "version": 3
   },
   "file_extension": ".py",
   "mimetype": "text/x-python",
   "name": "python",
   "nbconvert_exporter": "python",
   "pygments_lexer": "ipython3",
   "version": "3.8.8"
  }
 },
 "nbformat": 4,
 "nbformat_minor": 2
}
